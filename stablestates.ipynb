{
 "cells": [
  {
   "cell_type": "code",
   "execution_count": 1,
   "metadata": {},
   "outputs": [],
   "source": [
    "import numpy as np\n",
    "import matplotlib.pyplot as plt"
   ]
  },
  {
   "cell_type": "code",
   "execution_count": 20,
   "metadata": {},
   "outputs": [],
   "source": [
    "def initiate_values():\n",
    "    N, S, M = 4, 5, 5\n",
    "    lambd = 0.1 # small-but-not-too-small\n",
    "    return N, S, M, lambd"
   ]
  },
  {
   "cell_type": "code",
   "execution_count": 24,
   "metadata": {},
   "outputs": [
    {
     "data": {
      "image/png": "[encoded data removed]",
      "text/plain": [
       "<Figure size 432x432 with 4 Axes>"
      ]
     },
     "metadata": {
      "needs_background": "light"
     },
     "output_type": "display_data"
    }
   ],
   "source": [
    "N, S, M, lambd = initiate_values()\n",
    "phi = np.ones((N, S, M)) / S # phi = 1/S for all speakers\n",
    "\n",
    "def update_phi(n_steps):\n",
    "\n",
    "    for i in range(n_steps):\n",
    "\n",
    "        intend = np.random.choice(M) # meaning intended -- rho = 1/M, uniform distribution\n",
    "        speaker, listener = np.random.choice(N, size=2, replace=False)\n",
    "        produce = np.random.choice(S, p=phi[speaker,:,intend]) # the signal produced by the speaker\n",
    "        # no signal corruption for now\n",
    "        infer = np.random.choice(M, p=phi[listener,produce,:] / np.sum(phi[listener,produce,:])) # the meaning inferred by the listener\n",
    "\n",
    "        # updating phi\n",
    "        feedback = lambd if infer == intend else - lambd \n",
    "        # print(feedback)\n",
    "        phi[speaker,produce,intend] += (feedback * phi[speaker,produce,intend] * (1 - phi[speaker,produce,intend]))\n",
    "        phi[speaker,:,intend] /= np.sum(phi[speaker,:,intend]) # normalise along signal axis\n",
    "\n",
    "update_phi(50000)\n",
    "\n",
    "fig, axs = plt.subplots(2,2, figsize=(6,6), tight_layout=True)\n",
    "axs = np.ravel(axs)\n",
    "fig.suptitle(f'$N, S, M, \\lambda = {N}, {S}, {M}, {lambd}$')\n",
    "\n",
    "for i in range(N):\n",
    "    ax = axs[i]\n",
    "    im = ax.imshow(phi[i,:,:], cmap='magma')\n",
    "    ax.set_ylabel('signals')\n",
    "    ax.set_xlabel('meanings')\n",
    "    ax.set_title(f'individual {i}')\n",
    "\n",
    "\n",
    "plt.show()"
   ]
  },
  {
   "cell_type": "code",
   "execution_count": null,
   "metadata": {},
   "outputs": [],
   "source": []
  }
 ],
 "metadata": {
  "kernelspec": {
   "display_name": "Python 3.7.9",
   "language": "python",
   "name": "python3"
  },
  "language_info": {
   "codemirror_mode": {
    "name": "ipython",
    "version": 3
   },
   "file_extension": ".py",
   "mimetype": "text/x-python",
   "name": "python",
   "nbconvert_exporter": "python",
   "pygments_lexer": "ipython3",
   "version": "3.7.9 (default, Aug 31 2020, 07:22:35) \n[Clang 10.0.0 ]"
  },
  "orig_nbformat": 4,
  "vscode": {
   "interpreter": {
    "hash": "cd78fef2128015050713e82ca51c6520b11aee7c9ee8df750520bbbc7384cbaa"
   }
  }
 },
 "nbformat": 4,
 "nbformat_minor": 2
}
